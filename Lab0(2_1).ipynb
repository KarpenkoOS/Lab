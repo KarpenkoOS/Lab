{
  "nbformat": 4,
  "nbformat_minor": 0,
  "metadata": {
    "colab": {
      "name": "Lab0(2.1).ipynb",
      "provenance": [],
      "collapsed_sections": []
    },
    "kernelspec": {
      "name": "python3",
      "display_name": "Python 3"
    },
    "language_info": {
      "name": "python"
    }
  },
  "cells": [
    {
      "cell_type": "code",
      "metadata": {
        "id": "HKbMGmTp-iAj"
      },
      "source": [
        "import numpy as np\n",
        "import pprint\n",
        "import random\n",
        "np.set_printoptions(precision=5)\n",
        "pp = pprint.PrettyPrinter(indent=4)"
      ],
      "execution_count": 1,
      "outputs": []
    },
    {
      "cell_type": "code",
      "metadata": {
        "id": "P5pQRjWd-ySo"
      },
      "source": [
        "Q = np.array([[-1, 1, 0, 0],\n",
        "              [0, -2, 0.5, 1.5],\n",
        "              [0, 0, -1, 1],\n",
        "              [1, 0, 0, -1]])"
      ],
      "execution_count": 14,
      "outputs": []
    },
    {
      "cell_type": "code",
      "metadata": {
        "id": "RWihvFEW-2dn"
      },
      "source": [
        "from scipy.linalg import expm"
      ],
      "execution_count": 15,
      "outputs": []
    },
    {
      "cell_type": "code",
      "metadata": {
        "colab": {
          "base_uri": "https://localhost:8080/"
        },
        "id": "P6c8WYN4-6IN",
        "outputId": "9ec43e31-b135-45bd-ea49-7b3452af7bce"
      },
      "source": [
        "expm(Q*100_000)"
      ],
      "execution_count": 16,
      "outputs": [
        {
          "output_type": "execute_result",
          "data": {
            "text/plain": [
              "array([[0.36364, 0.18182, 0.09091, 0.36364],\n",
              "       [0.36364, 0.18182, 0.09091, 0.36364],\n",
              "       [0.36364, 0.18182, 0.09091, 0.36364],\n",
              "       [0.36364, 0.18182, 0.09091, 0.36364]])"
            ]
          },
          "metadata": {
            "tags": []
          },
          "execution_count": 16
        }
      ]
    },
    {
      "cell_type": "code",
      "metadata": {
        "id": "5x3PkllF_22u"
      },
      "source": [
        "def get_p(i,j):\n",
        "    if i != j:\n",
        "        return Q[i,j]/(-Q[i,i])\n",
        "    else: return 0"
      ],
      "execution_count": 18,
      "outputs": []
    },
    {
      "cell_type": "code",
      "metadata": {
        "colab": {
          "base_uri": "https://localhost:8080/"
        },
        "id": "osKvtjrF7mPy",
        "outputId": "013fd846-5d11-4e80-cf55-7cfdc934d53a"
      },
      "source": [
        "P = [[],[],[],[]]\n",
        "for i in range(4):\n",
        "    for j in range(4):\n",
        "        P[i].append(get_p(i,j))\n",
        "P = np.array(P)\n",
        "print(P)"
      ],
      "execution_count": 19,
      "outputs": [
        {
          "output_type": "stream",
          "text": [
            "[[0.   1.   0.   0.  ]\n",
            " [0.   0.   0.25 0.75]\n",
            " [0.   0.   0.   1.  ]\n",
            " [1.   0.   0.   0.  ]]\n"
          ],
          "name": "stdout"
        }
      ]
    },
    {
      "cell_type": "code",
      "metadata": {
        "id": "IGTjvmEz-8md"
      },
      "source": [
        "def exp_rand(lmbd):\n",
        "    return -1/lmbd * np.log(random.random()+0.0001)"
      ],
      "execution_count": 5,
      "outputs": []
    },
    {
      "cell_type": "code",
      "metadata": {
        "id": "-N36Xp1w_C4s"
      },
      "source": [
        "def get_state(i):\n",
        "    p = random.random()\n",
        "    last = 0\n",
        "    ans = i\n",
        "    for j in range(4):\n",
        "        if last <= p <= last+P[i,j]: \n",
        "            ans = j \n",
        "            break\n",
        "        last += P[i,j]\n",
        "    return ans"
      ],
      "execution_count": 6,
      "outputs": []
    },
    {
      "cell_type": "code",
      "metadata": {
        "colab": {
          "base_uri": "https://localhost:8080/"
        },
        "id": "vfQv__8s_GpV",
        "outputId": "9c17d1d1-de08-4f32-f8f5-7ba1a2cccaca"
      },
      "source": [
        "T_max = 1000_000\n",
        "cur_state = 0\n",
        "q = [abs(Q[i,i]) for i in range(4)]\n",
        "times = [exp_rand(q[cur_state]), 0, 0, 0]\n",
        "cur_time = times[cur_state]\n",
        "\n",
        "while (cur_time <= T_max):\n",
        "    cur_state = get_state(cur_state)\n",
        "    time_in_state = exp_rand(q[cur_state])\n",
        "    times[cur_state] += time_in_state\n",
        "    cur_time += time_in_state\n",
        "    #print(cur_time)\n",
        "print('\\n', times, sum(times))\n",
        "ans = [item/sum(times) for item in times]\n",
        "print('\\n',ans)"
      ],
      "execution_count": 23,
      "outputs": [
        {
          "output_type": "stream",
          "text": [
            "\n",
            " [364433.41551298415, 181375.2874501716, 90343.83921418346, 363848.14699707227] 1000000.6891744115\n",
            "\n",
            " [0.3644331643549726, 0.18137516245105076, 0.09034377695156415, 0.36384789624241254]\n"
          ],
          "name": "stdout"
        }
      ]
    },
    {
      "cell_type": "markdown",
      "metadata": {
        "id": "hsrbnIII_uxx"
      },
      "source": [
        "Цепи Маркова с непрерывным временем"
      ]
    }
  ]
}